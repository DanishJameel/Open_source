{
  "nbformat": 4,
  "nbformat_minor": 0,
  "metadata": {
    "colab": {
      "provenance": [],
      "authorship_tag": "ABX9TyMCmLWCUb2g0RE9R8bLFzTR",
      "include_colab_link": true
    },
    "kernelspec": {
      "name": "python3",
      "display_name": "Python 3"
    },
    "language_info": {
      "name": "python"
    }
  },
  "cells": [
    {
      "cell_type": "markdown",
      "metadata": {
        "id": "view-in-github",
        "colab_type": "text"
      },
      "source": [
        "<a href=\"https://colab.research.google.com/github/DanishJameel/Open_source/blob/main/Project_binary_logit_.ipynb\" target=\"_parent\"><img src=\"https://colab.research.google.com/assets/colab-badge.svg\" alt=\"Open In Colab\"/></a>"
      ]
    },
    {
      "cell_type": "code",
      "execution_count": 1,
      "metadata": {
        "id": "W5OYuFrlI5Xl"
      },
      "outputs": [],
      "source": [
        "import pandas as pd\n",
        "import numpy as np\n",
        "import statsmodels.api as sm\n"
      ]
    },
    {
      "cell_type": "code",
      "source": [
        "data = pd.read_csv('/content/517713700_commute_binary_55062858495454.csv')\n"
      ],
      "metadata": {
        "id": "Keb__b6VJCn5"
      },
      "execution_count": 2,
      "outputs": []
    },
    {
      "cell_type": "code",
      "source": [
        "data"
      ],
      "metadata": {
        "colab": {
          "base_uri": "https://localhost:8080/",
          "height": 424
        },
        "id": "KW8YmYoKJFm7",
        "outputId": "e6d58605-7e38-4499-f68a-2e7a6090402e"
      },
      "execution_count": 3,
      "outputs": [
        {
          "output_type": "execute_result",
          "data": {
            "text/plain": [
              "       id mode  time.car  cost.car  time.bus  cost.bus  price_gas  snowfall  \\\n",
              "0       1  car        13      0.79        26         0       2.44       0.0   \n",
              "1       2  car         9      0.59        14         0       2.59       0.0   \n",
              "2       3  bus        20      1.62        35         0       2.55       1.0   \n",
              "3       4  bus        11      0.30        11         0       2.53       2.2   \n",
              "4       5  bus        12      0.44        15         0       2.49      11.2   \n",
              "..    ...  ...       ...       ...       ...       ...        ...       ...   \n",
              "995   996  bus        11      0.40        15         0       2.42       0.0   \n",
              "996   997  bus         9      0.56        16         0       2.42       0.0   \n",
              "997   998  bus        15      0.39        12         0       2.54       1.1   \n",
              "998   999  bus        14      0.32        11         0       2.52       3.6   \n",
              "999  1000  car         9      0.28        10         0       2.52       0.0   \n",
              "\n",
              "     construction  bus_detour  age  income marital_status  \n",
              "0               0           1   33      28        married  \n",
              "1               0           0   25      28         single  \n",
              "2               0           0   27      23         single  \n",
              "3               0           0   25      21         single  \n",
              "4               0           0   26      26        married  \n",
              "..            ...         ...  ...     ...            ...  \n",
              "995             0           0   27      22         single  \n",
              "996             0           0   28      24         single  \n",
              "997             1           0   29      25         single  \n",
              "998             1           0   28      25         single  \n",
              "999             0           0   24      34        married  \n",
              "\n",
              "[1000 rows x 13 columns]"
            ],
            "text/html": [
              "\n",
              "  <div id=\"df-c4fc446f-5a53-435d-a988-c2345ce1eb80\">\n",
              "    <div class=\"colab-df-container\">\n",
              "      <div>\n",
              "<style scoped>\n",
              "    .dataframe tbody tr th:only-of-type {\n",
              "        vertical-align: middle;\n",
              "    }\n",
              "\n",
              "    .dataframe tbody tr th {\n",
              "        vertical-align: top;\n",
              "    }\n",
              "\n",
              "    .dataframe thead th {\n",
              "        text-align: right;\n",
              "    }\n",
              "</style>\n",
              "<table border=\"1\" class=\"dataframe\">\n",
              "  <thead>\n",
              "    <tr style=\"text-align: right;\">\n",
              "      <th></th>\n",
              "      <th>id</th>\n",
              "      <th>mode</th>\n",
              "      <th>time.car</th>\n",
              "      <th>cost.car</th>\n",
              "      <th>time.bus</th>\n",
              "      <th>cost.bus</th>\n",
              "      <th>price_gas</th>\n",
              "      <th>snowfall</th>\n",
              "      <th>construction</th>\n",
              "      <th>bus_detour</th>\n",
              "      <th>age</th>\n",
              "      <th>income</th>\n",
              "      <th>marital_status</th>\n",
              "    </tr>\n",
              "  </thead>\n",
              "  <tbody>\n",
              "    <tr>\n",
              "      <th>0</th>\n",
              "      <td>1</td>\n",
              "      <td>car</td>\n",
              "      <td>13</td>\n",
              "      <td>0.79</td>\n",
              "      <td>26</td>\n",
              "      <td>0</td>\n",
              "      <td>2.44</td>\n",
              "      <td>0.0</td>\n",
              "      <td>0</td>\n",
              "      <td>1</td>\n",
              "      <td>33</td>\n",
              "      <td>28</td>\n",
              "      <td>married</td>\n",
              "    </tr>\n",
              "    <tr>\n",
              "      <th>1</th>\n",
              "      <td>2</td>\n",
              "      <td>car</td>\n",
              "      <td>9</td>\n",
              "      <td>0.59</td>\n",
              "      <td>14</td>\n",
              "      <td>0</td>\n",
              "      <td>2.59</td>\n",
              "      <td>0.0</td>\n",
              "      <td>0</td>\n",
              "      <td>0</td>\n",
              "      <td>25</td>\n",
              "      <td>28</td>\n",
              "      <td>single</td>\n",
              "    </tr>\n",
              "    <tr>\n",
              "      <th>2</th>\n",
              "      <td>3</td>\n",
              "      <td>bus</td>\n",
              "      <td>20</td>\n",
              "      <td>1.62</td>\n",
              "      <td>35</td>\n",
              "      <td>0</td>\n",
              "      <td>2.55</td>\n",
              "      <td>1.0</td>\n",
              "      <td>0</td>\n",
              "      <td>0</td>\n",
              "      <td>27</td>\n",
              "      <td>23</td>\n",
              "      <td>single</td>\n",
              "    </tr>\n",
              "    <tr>\n",
              "      <th>3</th>\n",
              "      <td>4</td>\n",
              "      <td>bus</td>\n",
              "      <td>11</td>\n",
              "      <td>0.30</td>\n",
              "      <td>11</td>\n",
              "      <td>0</td>\n",
              "      <td>2.53</td>\n",
              "      <td>2.2</td>\n",
              "      <td>0</td>\n",
              "      <td>0</td>\n",
              "      <td>25</td>\n",
              "      <td>21</td>\n",
              "      <td>single</td>\n",
              "    </tr>\n",
              "    <tr>\n",
              "      <th>4</th>\n",
              "      <td>5</td>\n",
              "      <td>bus</td>\n",
              "      <td>12</td>\n",
              "      <td>0.44</td>\n",
              "      <td>15</td>\n",
              "      <td>0</td>\n",
              "      <td>2.49</td>\n",
              "      <td>11.2</td>\n",
              "      <td>0</td>\n",
              "      <td>0</td>\n",
              "      <td>26</td>\n",
              "      <td>26</td>\n",
              "      <td>married</td>\n",
              "    </tr>\n",
              "    <tr>\n",
              "      <th>...</th>\n",
              "      <td>...</td>\n",
              "      <td>...</td>\n",
              "      <td>...</td>\n",
              "      <td>...</td>\n",
              "      <td>...</td>\n",
              "      <td>...</td>\n",
              "      <td>...</td>\n",
              "      <td>...</td>\n",
              "      <td>...</td>\n",
              "      <td>...</td>\n",
              "      <td>...</td>\n",
              "      <td>...</td>\n",
              "      <td>...</td>\n",
              "    </tr>\n",
              "    <tr>\n",
              "      <th>995</th>\n",
              "      <td>996</td>\n",
              "      <td>bus</td>\n",
              "      <td>11</td>\n",
              "      <td>0.40</td>\n",
              "      <td>15</td>\n",
              "      <td>0</td>\n",
              "      <td>2.42</td>\n",
              "      <td>0.0</td>\n",
              "      <td>0</td>\n",
              "      <td>0</td>\n",
              "      <td>27</td>\n",
              "      <td>22</td>\n",
              "      <td>single</td>\n",
              "    </tr>\n",
              "    <tr>\n",
              "      <th>996</th>\n",
              "      <td>997</td>\n",
              "      <td>bus</td>\n",
              "      <td>9</td>\n",
              "      <td>0.56</td>\n",
              "      <td>16</td>\n",
              "      <td>0</td>\n",
              "      <td>2.42</td>\n",
              "      <td>0.0</td>\n",
              "      <td>0</td>\n",
              "      <td>0</td>\n",
              "      <td>28</td>\n",
              "      <td>24</td>\n",
              "      <td>single</td>\n",
              "    </tr>\n",
              "    <tr>\n",
              "      <th>997</th>\n",
              "      <td>998</td>\n",
              "      <td>bus</td>\n",
              "      <td>15</td>\n",
              "      <td>0.39</td>\n",
              "      <td>12</td>\n",
              "      <td>0</td>\n",
              "      <td>2.54</td>\n",
              "      <td>1.1</td>\n",
              "      <td>1</td>\n",
              "      <td>0</td>\n",
              "      <td>29</td>\n",
              "      <td>25</td>\n",
              "      <td>single</td>\n",
              "    </tr>\n",
              "    <tr>\n",
              "      <th>998</th>\n",
              "      <td>999</td>\n",
              "      <td>bus</td>\n",
              "      <td>14</td>\n",
              "      <td>0.32</td>\n",
              "      <td>11</td>\n",
              "      <td>0</td>\n",
              "      <td>2.52</td>\n",
              "      <td>3.6</td>\n",
              "      <td>1</td>\n",
              "      <td>0</td>\n",
              "      <td>28</td>\n",
              "      <td>25</td>\n",
              "      <td>single</td>\n",
              "    </tr>\n",
              "    <tr>\n",
              "      <th>999</th>\n",
              "      <td>1000</td>\n",
              "      <td>car</td>\n",
              "      <td>9</td>\n",
              "      <td>0.28</td>\n",
              "      <td>10</td>\n",
              "      <td>0</td>\n",
              "      <td>2.52</td>\n",
              "      <td>0.0</td>\n",
              "      <td>0</td>\n",
              "      <td>0</td>\n",
              "      <td>24</td>\n",
              "      <td>34</td>\n",
              "      <td>married</td>\n",
              "    </tr>\n",
              "  </tbody>\n",
              "</table>\n",
              "<p>1000 rows × 13 columns</p>\n",
              "</div>\n",
              "      <button class=\"colab-df-convert\" onclick=\"convertToInteractive('df-c4fc446f-5a53-435d-a988-c2345ce1eb80')\"\n",
              "              title=\"Convert this dataframe to an interactive table.\"\n",
              "              style=\"display:none;\">\n",
              "        \n",
              "  <svg xmlns=\"http://www.w3.org/2000/svg\" height=\"24px\"viewBox=\"0 0 24 24\"\n",
              "       width=\"24px\">\n",
              "    <path d=\"M0 0h24v24H0V0z\" fill=\"none\"/>\n",
              "    <path d=\"M18.56 5.44l.94 2.06.94-2.06 2.06-.94-2.06-.94-.94-2.06-.94 2.06-2.06.94zm-11 1L8.5 8.5l.94-2.06 2.06-.94-2.06-.94L8.5 2.5l-.94 2.06-2.06.94zm10 10l.94 2.06.94-2.06 2.06-.94-2.06-.94-.94-2.06-.94 2.06-2.06.94z\"/><path d=\"M17.41 7.96l-1.37-1.37c-.4-.4-.92-.59-1.43-.59-.52 0-1.04.2-1.43.59L10.3 9.45l-7.72 7.72c-.78.78-.78 2.05 0 2.83L4 21.41c.39.39.9.59 1.41.59.51 0 1.02-.2 1.41-.59l7.78-7.78 2.81-2.81c.8-.78.8-2.07 0-2.86zM5.41 20L4 18.59l7.72-7.72 1.47 1.35L5.41 20z\"/>\n",
              "  </svg>\n",
              "      </button>\n",
              "      \n",
              "  <style>\n",
              "    .colab-df-container {\n",
              "      display:flex;\n",
              "      flex-wrap:wrap;\n",
              "      gap: 12px;\n",
              "    }\n",
              "\n",
              "    .colab-df-convert {\n",
              "      background-color: #E8F0FE;\n",
              "      border: none;\n",
              "      border-radius: 50%;\n",
              "      cursor: pointer;\n",
              "      display: none;\n",
              "      fill: #1967D2;\n",
              "      height: 32px;\n",
              "      padding: 0 0 0 0;\n",
              "      width: 32px;\n",
              "    }\n",
              "\n",
              "    .colab-df-convert:hover {\n",
              "      background-color: #E2EBFA;\n",
              "      box-shadow: 0px 1px 2px rgba(60, 64, 67, 0.3), 0px 1px 3px 1px rgba(60, 64, 67, 0.15);\n",
              "      fill: #174EA6;\n",
              "    }\n",
              "\n",
              "    [theme=dark] .colab-df-convert {\n",
              "      background-color: #3B4455;\n",
              "      fill: #D2E3FC;\n",
              "    }\n",
              "\n",
              "    [theme=dark] .colab-df-convert:hover {\n",
              "      background-color: #434B5C;\n",
              "      box-shadow: 0px 1px 3px 1px rgba(0, 0, 0, 0.15);\n",
              "      filter: drop-shadow(0px 1px 2px rgba(0, 0, 0, 0.3));\n",
              "      fill: #FFFFFF;\n",
              "    }\n",
              "  </style>\n",
              "\n",
              "      <script>\n",
              "        const buttonEl =\n",
              "          document.querySelector('#df-c4fc446f-5a53-435d-a988-c2345ce1eb80 button.colab-df-convert');\n",
              "        buttonEl.style.display =\n",
              "          google.colab.kernel.accessAllowed ? 'block' : 'none';\n",
              "\n",
              "        async function convertToInteractive(key) {\n",
              "          const element = document.querySelector('#df-c4fc446f-5a53-435d-a988-c2345ce1eb80');\n",
              "          const dataTable =\n",
              "            await google.colab.kernel.invokeFunction('convertToInteractive',\n",
              "                                                     [key], {});\n",
              "          if (!dataTable) return;\n",
              "\n",
              "          const docLinkHtml = 'Like what you see? Visit the ' +\n",
              "            '<a target=\"_blank\" href=https://colab.research.google.com/notebooks/data_table.ipynb>data table notebook</a>'\n",
              "            + ' to learn more about interactive tables.';\n",
              "          element.innerHTML = '';\n",
              "          dataTable['output_type'] = 'display_data';\n",
              "          await google.colab.output.renderOutput(dataTable, element);\n",
              "          const docLink = document.createElement('div');\n",
              "          docLink.innerHTML = docLinkHtml;\n",
              "          element.appendChild(docLink);\n",
              "        }\n",
              "      </script>\n",
              "    </div>\n",
              "  </div>\n",
              "  "
            ]
          },
          "metadata": {},
          "execution_count": 3
        }
      ]
    },
    {
      "cell_type": "code",
      "source": [
        "data.isnull().sum()\n"
      ],
      "metadata": {
        "colab": {
          "base_uri": "https://localhost:8080/"
        },
        "id": "u7JaCg2bJs_5",
        "outputId": "0b2d4e7b-f331-4c3b-8dfd-f47966560276"
      },
      "execution_count": 4,
      "outputs": [
        {
          "output_type": "execute_result",
          "data": {
            "text/plain": [
              "id                0\n",
              "mode              0\n",
              "time.car          0\n",
              "cost.car          0\n",
              "time.bus          0\n",
              "cost.bus          0\n",
              "price_gas         0\n",
              "snowfall          0\n",
              "construction      0\n",
              "bus_detour        0\n",
              "age               0\n",
              "income            0\n",
              "marital_status    0\n",
              "dtype: int64"
            ]
          },
          "metadata": {},
          "execution_count": 4
        }
      ]
    },
    {
      "cell_type": "code",
      "source": [
        "data.dropna(inplace=True)\n"
      ],
      "metadata": {
        "id": "_9RXZ5rYJu4o"
      },
      "execution_count": 5,
      "outputs": []
    },
    {
      "cell_type": "code",
      "source": [
        "import matplotlib.pyplot as plt\n",
        "\n",
        "data['mode'].value_counts().plot(kind='bar')\n",
        "plt.xlabel('Mode of Transportation')\n",
        "plt.ylabel('Count')\n",
        "plt.title('Distribution of Transportation Modes')\n",
        "plt.show()\n"
      ],
      "metadata": {
        "colab": {
          "base_uri": "https://localhost:8080/",
          "height": 482
        },
        "id": "RlvjwYUfJGIC",
        "outputId": "d62487b9-9408-48f9-bfe2-28f6e996300c"
      },
      "execution_count": 6,
      "outputs": [
        {
          "output_type": "display_data",
          "data": {
            "text/plain": [
              "<Figure size 640x480 with 1 Axes>"
            ],
            "image/png": "[encoded data removed]"
          },
          "metadata": {}
        }
      ]
    },
    {
      "cell_type": "code",
      "source": [
        "plt.hist(data['time.car'], bins=10)\n",
        "plt.xlabel('Time (minutes)')\n",
        "plt.ylabel('Frequency')\n",
        "plt.title('Distribution of Driving Time')\n",
        "plt.show()\n"
      ],
      "metadata": {
        "colab": {
          "base_uri": "https://localhost:8080/",
          "height": 472
        },
        "id": "4OZZSnvWJTsD",
        "outputId": "8d69b8d4-f85e-422d-e240-bb9637dc2fe8"
      },
      "execution_count": 7,
      "outputs": [
        {
          "output_type": "display_data",
          "data": {
            "text/plain": [
              "<Figure size 640x480 with 1 Axes>"
            ],
            "image/png": "[encoded data removed]"
          },
          "metadata": {}
        }
      ]
    },
    {
      "cell_type": "code",
      "source": [
        "plt.hist(data['cost.car'], bins=10)\n",
        "plt.xlabel('Cost ($)')\n",
        "plt.ylabel('Frequency')\n",
        "plt.title('Distribution of Driving Cost')\n",
        "plt.show()\n"
      ],
      "metadata": {
        "colab": {
          "base_uri": "https://localhost:8080/",
          "height": 472
        },
        "id": "BXkcNiESJU0N",
        "outputId": "1a0ed6d6-eb2e-4437-a159-87938721b7df"
      },
      "execution_count": 8,
      "outputs": [
        {
          "output_type": "display_data",
          "data": {
            "text/plain": [
              "<Figure size 640x480 with 1 Axes>"
            ],
            "image/png": "[encoded data removed]"
          },
          "metadata": {}
        }
      ]
    },
    {
      "cell_type": "code",
      "source": [
        "plt.hist(data['time.bus'], bins=10)\n",
        "plt.xlabel('Time (minutes)')\n",
        "plt.ylabel('Frequency')\n",
        "plt.title('Distribution of Bus Commute Time')\n",
        "plt.show()\n"
      ],
      "metadata": {
        "colab": {
          "base_uri": "https://localhost:8080/",
          "height": 472
        },
        "id": "rZ_20UH5JWQZ",
        "outputId": "24f0468e-2e12-478f-962d-a1c1a87df91e"
      },
      "execution_count": 9,
      "outputs": [
        {
          "output_type": "display_data",
          "data": {
            "text/plain": [
              "<Figure size 640x480 with 1 Axes>"
            ],
            "image/png": "[encoded data removed]"
          },
          "metadata": {}
        }
      ]
    },
    {
      "cell_type": "code",
      "source": [
        "plt.hist(data['cost.bus'], bins=10)\n",
        "plt.xlabel('Cost ($)')\n",
        "plt.ylabel('Frequency')\n",
        "plt.title('Distribution of Bus Cost')\n",
        "plt.show()\n"
      ],
      "metadata": {
        "colab": {
          "base_uri": "https://localhost:8080/",
          "height": 472
        },
        "id": "_rPNhSIrJYAQ",
        "outputId": "2a58191a-48e0-42e3-a472-80561ce51c62"
      },
      "execution_count": 10,
      "outputs": [
        {
          "output_type": "display_data",
          "data": {
            "text/plain": [
              "<Figure size 640x480 with 1 Axes>"
            ],
            "image/png": "[encoded data removed]"
          },
          "metadata": {}
        }
      ]
    },
    {
      "cell_type": "code",
      "source": [
        "plt.hist(data['price_gas'], bins=10)\n",
        "plt.xlabel('Gas Price ($)')\n",
        "plt.ylabel('Frequency')\n",
        "plt.title('Distribution of Gas Price')\n",
        "plt.show()\n",
        "\n",
        "# Alternatively, you can use summary statistics:\n",
        "print(data['price_gas'].describe())\n"
      ],
      "metadata": {
        "colab": {
          "base_uri": "https://localhost:8080/",
          "height": 628
        },
        "id": "yQnGmLt2JZfn",
        "outputId": "e92e6cab-b93d-42ec-805e-7c329ab427cc"
      },
      "execution_count": 11,
      "outputs": [
        {
          "output_type": "display_data",
          "data": {
            "text/plain": [
              "<Figure size 640x480 with 1 Axes>"
            ],
            "image/png": "[encoded data removed]"
          },
          "metadata": {}
        },
        {
          "output_type": "stream",
          "name": "stdout",
          "text": [
            "count    1000.000000\n",
            "mean        2.503720\n",
            "std         0.099091\n",
            "min         2.190000\n",
            "25%         2.440000\n",
            "50%         2.500000\n",
            "75%         2.570000\n",
            "max         2.790000\n",
            "Name: price_gas, dtype: float64\n"
          ]
        }
      ]
    },
    {
      "cell_type": "code",
      "source": [
        "plt.hist(data['snowfall'], bins=10)\n",
        "plt.xlabel('Snowfall')\n",
        "plt.ylabel('Frequency')\n",
        "plt.title('Distribution of Snowfall')\n",
        "plt.show()\n",
        "\n",
        "# Alternatively, you can use summary statistics:\n",
        "print(data['snowfall'].describe())\n"
      ],
      "metadata": {
        "colab": {
          "base_uri": "https://localhost:8080/",
          "height": 628
        },
        "id": "hU9yToZfJa7I",
        "outputId": "58501336-6988-4bc0-c1de-79c69adbeb50"
      },
      "execution_count": 12,
      "outputs": [
        {
          "output_type": "display_data",
          "data": {
            "text/plain": [
              "<Figure size 640x480 with 1 Axes>"
            ],
            "image/png": "[encoded data removed]"
          },
          "metadata": {}
        },
        {
          "output_type": "stream",
          "name": "stdout",
          "text": [
            "count    1000.000000\n",
            "mean        1.335700\n",
            "std         2.763225\n",
            "min         0.000000\n",
            "25%         0.000000\n",
            "50%         0.000000\n",
            "75%         1.400000\n",
            "max        27.200000\n",
            "Name: snowfall, dtype: float64\n"
          ]
        }
      ]
    },
    {
      "cell_type": "code",
      "source": [
        "data['construction'].value_counts().plot(kind='bar')\n",
        "plt.xlabel('Construction Status')\n",
        "plt.ylabel('Count')\n",
        "plt.title('Distribution of Construction Status')\n",
        "plt.show()\n"
      ],
      "metadata": {
        "colab": {
          "base_uri": "https://localhost:8080/",
          "height": 467
        },
        "id": "E0fC3F-EJcXB",
        "outputId": "ce1b8098-b5ae-4615-c7db-be63433b086d"
      },
      "execution_count": 13,
      "outputs": [
        {
          "output_type": "display_data",
          "data": {
            "text/plain": [
              "<Figure size 640x480 with 1 Axes>"
            ],
            "image/png": "[encoded data removed]"
          },
          "metadata": {}
        }
      ]
    },
    {
      "cell_type": "code",
      "source": [
        "data['bus_detour'].value_counts().plot(kind='bar')\n",
        "plt.xlabel('Bus Detour Status')\n",
        "plt.ylabel('Count')\n",
        "plt.title('Distribution of Bus Detour Status')\n",
        "plt.show()\n"
      ],
      "metadata": {
        "colab": {
          "base_uri": "https://localhost:8080/",
          "height": 467
        },
        "id": "lZkG8Nr2Jd2X",
        "outputId": "f541d582-dc41-4ea5-9fdd-2570c63f536f"
      },
      "execution_count": 14,
      "outputs": [
        {
          "output_type": "display_data",
          "data": {
            "text/plain": [
              "<Figure size 640x480 with 1 Axes>"
            ],
            "image/png": "[encoded data removed]"
          },
          "metadata": {}
        }
      ]
    },
    {
      "cell_type": "code",
      "source": [
        "plt.hist(data['age'], bins=10)\n",
        "plt.xlabel('Age')\n",
        "plt.ylabel('Frequency')\n",
        "plt.title('Distribution of Age')\n",
        "plt.show()\n"
      ],
      "metadata": {
        "colab": {
          "base_uri": "https://localhost:8080/",
          "height": 472
        },
        "id": "Qv4q25k0Jfsq",
        "outputId": "60629ef5-8fd6-4cc3-b571-ee11abeaae96"
      },
      "execution_count": 15,
      "outputs": [
        {
          "output_type": "display_data",
          "data": {
            "text/plain": [
              "<Figure size 640x480 with 1 Axes>"
            ],
            "image/png": "[encoded data removed]"
          },
          "metadata": {}
        }
      ]
    },
    {
      "cell_type": "code",
      "source": [
        "plt.hist(data['income'], bins=10)\n",
        "plt.xlabel('Income')\n",
        "plt.ylabel('Frequency')\n",
        "plt\n"
      ],
      "metadata": {
        "colab": {
          "base_uri": "https://localhost:8080/",
          "height": 466
        },
        "id": "BxWGMHGqJiC_",
        "outputId": "a0cfe862-a270-4a1b-8acf-c710cee2f236"
      },
      "execution_count": 16,
      "outputs": [
        {
          "output_type": "execute_result",
          "data": {
            "text/plain": [
              "<module 'matplotlib.pyplot' from '/usr/local/lib/python3.10/dist-packages/matplotlib/pyplot.py'>"
            ]
          },
          "metadata": {},
          "execution_count": 16
        },
        {
          "output_type": "display_data",
          "data": {
            "text/plain": [
              "<Figure size 640x480 with 1 Axes>"
            ],
            "image/png": "[encoded data removed]"
          },
          "metadata": {}
        }
      ]
    },
    {
      "cell_type": "code",
      "source": [
        "data = pd.get_dummies(data, columns=['mode', 'marital_status'], drop_first=True)\n"
      ],
      "metadata": {
        "id": "GZKSx5XqJjSy"
      },
      "execution_count": 17,
      "outputs": []
    },
    {
      "cell_type": "code",
      "source": [
        "data"
      ],
      "metadata": {
        "colab": {
          "base_uri": "https://localhost:8080/",
          "height": 424
        },
        "id": "lmWJ4JKcJ0b4",
        "outputId": "49394384-b5fa-4e7c-ed88-ccd272f7f166"
      },
      "execution_count": 18,
      "outputs": [
        {
          "output_type": "execute_result",
          "data": {
            "text/plain": [
              "       id  time.car  cost.car  time.bus  cost.bus  price_gas  snowfall  \\\n",
              "0       1        13      0.79        26         0       2.44       0.0   \n",
              "1       2         9      0.59        14         0       2.59       0.0   \n",
              "2       3        20      1.62        35         0       2.55       1.0   \n",
              "3       4        11      0.30        11         0       2.53       2.2   \n",
              "4       5        12      0.44        15         0       2.49      11.2   \n",
              "..    ...       ...       ...       ...       ...        ...       ...   \n",
              "995   996        11      0.40        15         0       2.42       0.0   \n",
              "996   997         9      0.56        16         0       2.42       0.0   \n",
              "997   998        15      0.39        12         0       2.54       1.1   \n",
              "998   999        14      0.32        11         0       2.52       3.6   \n",
              "999  1000         9      0.28        10         0       2.52       0.0   \n",
              "\n",
              "     construction  bus_detour  age  income  mode_car  marital_status_single  \n",
              "0               0           1   33      28         1                      0  \n",
              "1               0           0   25      28         1                      1  \n",
              "2               0           0   27      23         0                      1  \n",
              "3               0           0   25      21         0                      1  \n",
              "4               0           0   26      26         0                      0  \n",
              "..            ...         ...  ...     ...       ...                    ...  \n",
              "995             0           0   27      22         0                      1  \n",
              "996             0           0   28      24         0                      1  \n",
              "997             1           0   29      25         0                      1  \n",
              "998             1           0   28      25         0                      1  \n",
              "999             0           0   24      34         1                      0  \n",
              "\n",
              "[1000 rows x 13 columns]"
            ],
            "text/html": [
              "\n",
              "  <div id=\"df-7df67de4-6c0a-450f-a174-8b2f3aa768e7\">\n",
              "    <div class=\"colab-df-container\">\n",
              "      <div>\n",
              "<style scoped>\n",
              "    .dataframe tbody tr th:only-of-type {\n",
              "        vertical-align: middle;\n",
              "    }\n",
              "\n",
              "    .dataframe tbody tr th {\n",
              "        vertical-align: top;\n",
              "    }\n",
              "\n",
              "    .dataframe thead th {\n",
              "        text-align: right;\n",
              "    }\n",
              "</style>\n",
              "<table border=\"1\" class=\"dataframe\">\n",
              "  <thead>\n",
              "    <tr style=\"text-align: right;\">\n",
              "      <th></th>\n",
              "      <th>id</th>\n",
              "      <th>time.car</th>\n",
              "      <th>cost.car</th>\n",
              "      <th>time.bus</th>\n",
              "      <th>cost.bus</th>\n",
              "      <th>price_gas</th>\n",
              "      <th>snowfall</th>\n",
              "      <th>construction</th>\n",
              "      <th>bus_detour</th>\n",
              "      <th>age</th>\n",
              "      <th>income</th>\n",
              "      <th>mode_car</th>\n",
              "      <th>marital_status_single</th>\n",
              "    </tr>\n",
              "  </thead>\n",
              "  <tbody>\n",
              "    <tr>\n",
              "      <th>0</th>\n",
              "      <td>1</td>\n",
              "      <td>13</td>\n",
              "      <td>0.79</td>\n",
              "      <td>26</td>\n",
              "      <td>0</td>\n",
              "      <td>2.44</td>\n",
              "      <td>0.0</td>\n",
              "      <td>0</td>\n",
              "      <td>1</td>\n",
              "      <td>33</td>\n",
              "      <td>28</td>\n",
              "      <td>1</td>\n",
              "      <td>0</td>\n",
              "    </tr>\n",
              "    <tr>\n",
              "      <th>1</th>\n",
              "      <td>2</td>\n",
              "      <td>9</td>\n",
              "      <td>0.59</td>\n",
              "      <td>14</td>\n",
              "      <td>0</td>\n",
              "      <td>2.59</td>\n",
              "      <td>0.0</td>\n",
              "      <td>0</td>\n",
              "      <td>0</td>\n",
              "      <td>25</td>\n",
              "      <td>28</td>\n",
              "      <td>1</td>\n",
              "      <td>1</td>\n",
              "    </tr>\n",
              "    <tr>\n",
              "      <th>2</th>\n",
              "      <td>3</td>\n",
              "      <td>20</td>\n",
              "      <td>1.62</td>\n",
              "      <td>35</td>\n",
              "      <td>0</td>\n",
              "      <td>2.55</td>\n",
              "      <td>1.0</td>\n",
              "      <td>0</td>\n",
              "      <td>0</td>\n",
              "      <td>27</td>\n",
              "      <td>23</td>\n",
              "      <td>0</td>\n",
              "      <td>1</td>\n",
              "    </tr>\n",
              "    <tr>\n",
              "      <th>3</th>\n",
              "      <td>4</td>\n",
              "      <td>11</td>\n",
              "      <td>0.30</td>\n",
              "      <td>11</td>\n",
              "      <td>0</td>\n",
              "      <td>2.53</td>\n",
              "      <td>2.2</td>\n",
              "      <td>0</td>\n",
              "      <td>0</td>\n",
              "      <td>25</td>\n",
              "      <td>21</td>\n",
              "      <td>0</td>\n",
              "      <td>1</td>\n",
              "    </tr>\n",
              "    <tr>\n",
              "      <th>4</th>\n",
              "      <td>5</td>\n",
              "      <td>12</td>\n",
              "      <td>0.44</td>\n",
              "      <td>15</td>\n",
              "      <td>0</td>\n",
              "      <td>2.49</td>\n",
              "      <td>11.2</td>\n",
              "      <td>0</td>\n",
              "      <td>0</td>\n",
              "      <td>26</td>\n",
              "      <td>26</td>\n",
              "      <td>0</td>\n",
              "      <td>0</td>\n",
              "    </tr>\n",
              "    <tr>\n",
              "      <th>...</th>\n",
              "      <td>...</td>\n",
              "      <td>...</td>\n",
              "      <td>...</td>\n",
              "      <td>...</td>\n",
              "      <td>...</td>\n",
              "      <td>...</td>\n",
              "      <td>...</td>\n",
              "      <td>...</td>\n",
              "      <td>...</td>\n",
              "      <td>...</td>\n",
              "      <td>...</td>\n",
              "      <td>...</td>\n",
              "      <td>...</td>\n",
              "    </tr>\n",
              "    <tr>\n",
              "      <th>995</th>\n",
              "      <td>996</td>\n",
              "      <td>11</td>\n",
              "      <td>0.40</td>\n",
              "      <td>15</td>\n",
              "      <td>0</td>\n",
              "      <td>2.42</td>\n",
              "      <td>0.0</td>\n",
              "      <td>0</td>\n",
              "      <td>0</td>\n",
              "      <td>27</td>\n",
              "      <td>22</td>\n",
              "      <td>0</td>\n",
              "      <td>1</td>\n",
              "    </tr>\n",
              "    <tr>\n",
              "      <th>996</th>\n",
              "      <td>997</td>\n",
              "      <td>9</td>\n",
              "      <td>0.56</td>\n",
              "      <td>16</td>\n",
              "      <td>0</td>\n",
              "      <td>2.42</td>\n",
              "      <td>0.0</td>\n",
              "      <td>0</td>\n",
              "      <td>0</td>\n",
              "      <td>28</td>\n",
              "      <td>24</td>\n",
              "      <td>0</td>\n",
              "      <td>1</td>\n",
              "    </tr>\n",
              "    <tr>\n",
              "      <th>997</th>\n",
              "      <td>998</td>\n",
              "      <td>15</td>\n",
              "      <td>0.39</td>\n",
              "      <td>12</td>\n",
              "      <td>0</td>\n",
              "      <td>2.54</td>\n",
              "      <td>1.1</td>\n",
              "      <td>1</td>\n",
              "      <td>0</td>\n",
              "      <td>29</td>\n",
              "      <td>25</td>\n",
              "      <td>0</td>\n",
              "      <td>1</td>\n",
              "    </tr>\n",
              "    <tr>\n",
              "      <th>998</th>\n",
              "      <td>999</td>\n",
              "      <td>14</td>\n",
              "      <td>0.32</td>\n",
              "      <td>11</td>\n",
              "      <td>0</td>\n",
              "      <td>2.52</td>\n",
              "      <td>3.6</td>\n",
              "      <td>1</td>\n",
              "      <td>0</td>\n",
              "      <td>28</td>\n",
              "      <td>25</td>\n",
              "      <td>0</td>\n",
              "      <td>1</td>\n",
              "    </tr>\n",
              "    <tr>\n",
              "      <th>999</th>\n",
              "      <td>1000</td>\n",
              "      <td>9</td>\n",
              "      <td>0.28</td>\n",
              "      <td>10</td>\n",
              "      <td>0</td>\n",
              "      <td>2.52</td>\n",
              "      <td>0.0</td>\n",
              "      <td>0</td>\n",
              "      <td>0</td>\n",
              "      <td>24</td>\n",
              "      <td>34</td>\n",
              "      <td>1</td>\n",
              "      <td>0</td>\n",
              "    </tr>\n",
              "  </tbody>\n",
              "</table>\n",
              "<p>1000 rows × 13 columns</p>\n",
              "</div>\n",
              "      <button class=\"colab-df-convert\" onclick=\"convertToInteractive('df-7df67de4-6c0a-450f-a174-8b2f3aa768e7')\"\n",
              "              title=\"Convert this dataframe to an interactive table.\"\n",
              "              style=\"display:none;\">\n",
              "        \n",
              "  <svg xmlns=\"http://www.w3.org/2000/svg\" height=\"24px\"viewBox=\"0 0 24 24\"\n",
              "       width=\"24px\">\n",
              "    <path d=\"M0 0h24v24H0V0z\" fill=\"none\"/>\n",
              "    <path d=\"M18.56 5.44l.94 2.06.94-2.06 2.06-.94-2.06-.94-.94-2.06-.94 2.06-2.06.94zm-11 1L8.5 8.5l.94-2.06 2.06-.94-2.06-.94L8.5 2.5l-.94 2.06-2.06.94zm10 10l.94 2.06.94-2.06 2.06-.94-2.06-.94-.94-2.06-.94 2.06-2.06.94z\"/><path d=\"M17.41 7.96l-1.37-1.37c-.4-.4-.92-.59-1.43-.59-.52 0-1.04.2-1.43.59L10.3 9.45l-7.72 7.72c-.78.78-.78 2.05 0 2.83L4 21.41c.39.39.9.59 1.41.59.51 0 1.02-.2 1.41-.59l7.78-7.78 2.81-2.81c.8-.78.8-2.07 0-2.86zM5.41 20L4 18.59l7.72-7.72 1.47 1.35L5.41 20z\"/>\n",
              "  </svg>\n",
              "      </button>\n",
              "      \n",
              "  <style>\n",
              "    .colab-df-container {\n",
              "      display:flex;\n",
              "      flex-wrap:wrap;\n",
              "      gap: 12px;\n",
              "    }\n",
              "\n",
              "    .colab-df-convert {\n",
              "      background-color: #E8F0FE;\n",
              "      border: none;\n",
              "      border-radius: 50%;\n",
              "      cursor: pointer;\n",
              "      display: none;\n",
              "      fill: #1967D2;\n",
              "      height: 32px;\n",
              "      padding: 0 0 0 0;\n",
              "      width: 32px;\n",
              "    }\n",
              "\n",
              "    .colab-df-convert:hover {\n",
              "      background-color: #E2EBFA;\n",
              "      box-shadow: 0px 1px 2px rgba(60, 64, 67, 0.3), 0px 1px 3px 1px rgba(60, 64, 67, 0.15);\n",
              "      fill: #174EA6;\n",
              "    }\n",
              "\n",
              "    [theme=dark] .colab-df-convert {\n",
              "      background-color: #3B4455;\n",
              "      fill: #D2E3FC;\n",
              "    }\n",
              "\n",
              "    [theme=dark] .colab-df-convert:hover {\n",
              "      background-color: #434B5C;\n",
              "      box-shadow: 0px 1px 3px 1px rgba(0, 0, 0, 0.15);\n",
              "      filter: drop-shadow(0px 1px 2px rgba(0, 0, 0, 0.3));\n",
              "      fill: #FFFFFF;\n",
              "    }\n",
              "  </style>\n",
              "\n",
              "      <script>\n",
              "        const buttonEl =\n",
              "          document.querySelector('#df-7df67de4-6c0a-450f-a174-8b2f3aa768e7 button.colab-df-convert');\n",
              "        buttonEl.style.display =\n",
              "          google.colab.kernel.accessAllowed ? 'block' : 'none';\n",
              "\n",
              "        async function convertToInteractive(key) {\n",
              "          const element = document.querySelector('#df-7df67de4-6c0a-450f-a174-8b2f3aa768e7');\n",
              "          const dataTable =\n",
              "            await google.colab.kernel.invokeFunction('convertToInteractive',\n",
              "                                                     [key], {});\n",
              "          if (!dataTable) return;\n",
              "\n",
              "          const docLinkHtml = 'Like what you see? Visit the ' +\n",
              "            '<a target=\"_blank\" href=https://colab.research.google.com/notebooks/data_table.ipynb>data table notebook</a>'\n",
              "            + ' to learn more about interactive tables.';\n",
              "          element.innerHTML = '';\n",
              "          dataTable['output_type'] = 'display_data';\n",
              "          await google.colab.output.renderOutput(dataTable, element);\n",
              "          const docLink = document.createElement('div');\n",
              "          docLink.innerHTML = docLinkHtml;\n",
              "          element.appendChild(docLink);\n",
              "        }\n",
              "      </script>\n",
              "    </div>\n",
              "  </div>\n",
              "  "
            ]
          },
          "metadata": {},
          "execution_count": 18
        }
      ]
    },
    {
      "cell_type": "code",
      "source": [
        "X = data[['cost.car', 'time.car', 'time.bus']]\n",
        "y = data['mode_car']\n"
      ],
      "metadata": {
        "id": "oR4v6KiBJ1iU"
      },
      "execution_count": 19,
      "outputs": []
    },
    {
      "cell_type": "code",
      "source": [
        "X = sm.add_constant(X)  # Add a constant term to the model\n",
        "logit_model = sm.Logit(y, X)\n",
        "result = logit_model.fit()\n"
      ],
      "metadata": {
        "colab": {
          "base_uri": "https://localhost:8080/"
        },
        "id": "berrfoMaJ7_5",
        "outputId": "a58d87b9-8a37-4fe8-cfbe-626fbef9323b"
      },
      "execution_count": 20,
      "outputs": [
        {
          "output_type": "stream",
          "name": "stdout",
          "text": [
            "Optimization terminated successfully.\n",
            "         Current function value: inf\n",
            "         Iterations 6\n"
          ]
        },
        {
          "output_type": "stream",
          "name": "stderr",
          "text": [
            "/usr/local/lib/python3.10/dist-packages/statsmodels/discrete/discrete_model.py:1819: RuntimeWarning: overflow encountered in exp\n",
            "  return 1/(1+np.exp(-X))\n",
            "/usr/local/lib/python3.10/dist-packages/statsmodels/discrete/discrete_model.py:1872: RuntimeWarning: divide by zero encountered in log\n",
            "  return np.sum(np.log(self.cdf(q*np.dot(X,params))))\n"
          ]
        }
      ]
    },
    {
      "cell_type": "code",
      "source": [
        "print(result.summary())\n"
      ],
      "metadata": {
        "colab": {
          "base_uri": "https://localhost:8080/"
        },
        "id": "TxY4AfTKKNM_",
        "outputId": "14d9c3c7-0091-472f-8020-5dbd2ec7a38d"
      },
      "execution_count": 21,
      "outputs": [
        {
          "output_type": "stream",
          "name": "stdout",
          "text": [
            "                           Logit Regression Results                           \n",
            "==============================================================================\n",
            "Dep. Variable:               mode_car   No. Observations:                 1000\n",
            "Model:                          Logit   Df Residuals:                      996\n",
            "Method:                           MLE   Df Model:                            3\n",
            "Date:                Sun, 07 May 2023   Pseudo R-squ.:                     inf\n",
            "Time:                        04:55:16   Log-Likelihood:                   -inf\n",
            "converged:                       True   LL-Null:                        0.0000\n",
            "Covariance Type:            nonrobust   LLR p-value:                     1.000\n",
            "==============================================================================\n",
            "                 coef    std err          z      P>|z|      [0.025      0.975]\n",
            "------------------------------------------------------------------------------\n",
            "const          2.2333      0.347      6.443      0.000       1.554       2.913\n",
            "cost.car      -2.0772      0.732     -2.836      0.005      -3.513      -0.642\n",
            "time.car      -0.3322      0.035     -9.400      0.000      -0.401      -0.263\n",
            "time.bus       0.1326      0.032      4.092      0.000       0.069       0.196\n",
            "==============================================================================\n"
          ]
        },
        {
          "output_type": "stream",
          "name": "stderr",
          "text": [
            "/usr/local/lib/python3.10/dist-packages/statsmodels/base/model.py:592: HessianInversionWarning: Inverting hessian failed, no bse or cov_params available\n",
            "  warnings.warn('Inverting hessian failed, no bse or cov_params '\n",
            "/usr/local/lib/python3.10/dist-packages/statsmodels/base/model.py:592: HessianInversionWarning: Inverting hessian failed, no bse or cov_params available\n",
            "  warnings.warn('Inverting hessian failed, no bse or cov_params '\n"
          ]
        }
      ]
    },
    {
      "cell_type": "code",
      "source": [
        "marginal_effects = result.get_margeff()\n",
        "print(marginal_effects.summary())\n"
      ],
      "metadata": {
        "colab": {
          "base_uri": "https://localhost:8080/"
        },
        "id": "my1YWo-zKPK1",
        "outputId": "8a8c2418-37d9-44ea-ac2d-778c684da188"
      },
      "execution_count": 22,
      "outputs": [
        {
          "output_type": "stream",
          "name": "stdout",
          "text": [
            "        Logit Marginal Effects       \n",
            "=====================================\n",
            "Dep. Variable:               mode_car\n",
            "Method:                          dydx\n",
            "At:                           overall\n",
            "==============================================================================\n",
            "                dy/dx    std err          z      P>|z|      [0.025      0.975]\n",
            "------------------------------------------------------------------------------\n",
            "cost.car      -0.4314      0.150     -2.879      0.004      -0.725      -0.138\n",
            "time.car      -0.0690      0.006    -11.329      0.000      -0.081      -0.057\n",
            "time.bus       0.0275      0.007      4.222      0.000       0.015       0.040\n",
            "==============================================================================\n"
          ]
        }
      ]
    },
    {
      "cell_type": "code",
      "source": [
        "# Assuming cost.car is the cost per hour spent driving and time.car is the time in hours spent driving\n",
        "dollar_value_driving = result.params['cost.car']  # Coefficient for cost.car\n",
        "\n",
        "# Assuming cost.bus is the cost per hour spent on the bus and time.bus is the time in hours spent on the bus\n",
        "dollar_value_bus = result.params['time.bus']  # Coefficient for cost.bus\n"
      ],
      "metadata": {
        "id": "-FuK43g_KRrC"
      },
      "execution_count": 23,
      "outputs": []
    },
    {
      "cell_type": "code",
      "source": [
        "X = data[['cost.car', 'time.car', 'time.bus', 'income']]\n",
        "X = sm.add_constant(X)  # Add a constant term to the model\n",
        "logit_model_income = sm.Logit(y, X)\n",
        "result_income = logit_model_income.fit()\n"
      ],
      "metadata": {
        "colab": {
          "base_uri": "https://localhost:8080/"
        },
        "id": "V0Sv75pMKTUz",
        "outputId": "47e75bc8-51bd-4890-ac64-c3b1509d38f6"
      },
      "execution_count": 24,
      "outputs": [
        {
          "output_type": "stream",
          "name": "stdout",
          "text": [
            "Optimization terminated successfully.\n",
            "         Current function value: inf\n",
            "         Iterations 6\n"
          ]
        },
        {
          "output_type": "stream",
          "name": "stderr",
          "text": [
            "/usr/local/lib/python3.10/dist-packages/statsmodels/discrete/discrete_model.py:1819: RuntimeWarning: overflow encountered in exp\n",
            "  return 1/(1+np.exp(-X))\n",
            "/usr/local/lib/python3.10/dist-packages/statsmodels/discrete/discrete_model.py:1872: RuntimeWarning: divide by zero encountered in log\n",
            "  return np.sum(np.log(self.cdf(q*np.dot(X,params))))\n"
          ]
        }
      ]
    },
    {
      "cell_type": "code",
      "source": [
        "print(result_income.summary())\n"
      ],
      "metadata": {
        "colab": {
          "base_uri": "https://localhost:8080/"
        },
        "id": "EOsZEfBfKpYw",
        "outputId": "029fc152-a5d5-4d5c-a30a-b5d8c0c4334f"
      },
      "execution_count": 25,
      "outputs": [
        {
          "output_type": "stream",
          "name": "stdout",
          "text": [
            "                           Logit Regression Results                           \n",
            "==============================================================================\n",
            "Dep. Variable:               mode_car   No. Observations:                 1000\n",
            "Model:                          Logit   Df Residuals:                      995\n",
            "Method:                           MLE   Df Model:                            4\n",
            "Date:                Sun, 07 May 2023   Pseudo R-squ.:                     inf\n",
            "Time:                        04:55:16   Log-Likelihood:                   -inf\n",
            "converged:                       True   LL-Null:                        0.0000\n",
            "Covariance Type:            nonrobust   LLR p-value:                     1.000\n",
            "==============================================================================\n",
            "                 coef    std err          z      P>|z|      [0.025      0.975]\n",
            "------------------------------------------------------------------------------\n",
            "const          1.0511      0.538      1.954      0.051      -0.003       2.105\n",
            "cost.car      -2.0279      0.733     -2.765      0.006      -3.465      -0.591\n",
            "time.car      -0.3416      0.036     -9.553      0.000      -0.412      -0.272\n",
            "time.bus       0.1329      0.032      4.096      0.000       0.069       0.196\n",
            "income         0.0502      0.018      2.839      0.005       0.016       0.085\n",
            "==============================================================================\n"
          ]
        },
        {
          "output_type": "stream",
          "name": "stderr",
          "text": [
            "/usr/local/lib/python3.10/dist-packages/statsmodels/base/model.py:592: HessianInversionWarning: Inverting hessian failed, no bse or cov_params available\n",
            "  warnings.warn('Inverting hessian failed, no bse or cov_params '\n",
            "/usr/local/lib/python3.10/dist-packages/statsmodels/base/model.py:592: HessianInversionWarning: Inverting hessian failed, no bse or cov_params available\n",
            "  warnings.warn('Inverting hessian failed, no bse or cov_params '\n"
          ]
        }
      ]
    },
    {
      "cell_type": "code",
      "source": [
        "income_levels = [15000, 25000, 35000]\n",
        "\n",
        "for income in income_levels:\n",
        "    income_effect = result_income.params['income'] / income  # Coefficient for income\n",
        "    dollar_value_driving_income = result_income.params['cost.car'] / income  # Coefficient for cost.car\n",
        "    dollar_value_bus_income = result_income.params['time.bus'] / income  # Coefficient for cost.bus\n",
        "    \n",
        "    print(f\"For an income of {income}:\")\n",
        "    print(f\"Marginal utility of income: {income_effect}\")\n",
        "    print(f\"Dollar value of driving per hour: {dollar_value_driving_income}\")\n",
        "    print(f\"Dollar value of bus per hour: {dollar_value_bus_income}\")\n"
      ],
      "metadata": {
        "colab": {
          "base_uri": "https://localhost:8080/"
        },
        "id": "bpne4My1Kt3D",
        "outputId": "b1aa602d-bf09-4c8f-cfdc-60aac73f16a8"
      },
      "execution_count": 26,
      "outputs": [
        {
          "output_type": "stream",
          "name": "stdout",
          "text": [
            "For an income of 15000:\n",
            "Marginal utility of income: 3.348608126608297e-06\n",
            "Dollar value of driving per hour: -0.00013519149947561172\n",
            "Dollar value of bus per hour: 8.858822963488404e-06\n",
            "For an income of 25000:\n",
            "Marginal utility of income: 2.0091648759649784e-06\n",
            "Dollar value of driving per hour: -8.111489968536704e-05\n",
            "Dollar value of bus per hour: 5.315293778093043e-06\n",
            "For an income of 35000:\n",
            "Marginal utility of income: 1.435117768546413e-06\n",
            "Dollar value of driving per hour: -5.793921406097646e-05\n",
            "Dollar value of bus per hour: 3.7966384129236024e-06\n"
          ]
        }
      ]
    },
    {
      "cell_type": "code",
      "source": [
        "import pandas as pd\n",
        "import numpy as np\n",
        "import statsmodels.api as sm\n"
      ],
      "metadata": {
        "id": "16M3BklPKw3s"
      },
      "execution_count": 27,
      "outputs": []
    },
    {
      "cell_type": "code",
      "source": [
        "X = data[['cost.car', 'time.car', 'time.bus', 'income']]\n",
        "y = data['mode_car']\n"
      ],
      "metadata": {
        "id": "WDuGTljBll3h"
      },
      "execution_count": 32,
      "outputs": []
    },
    {
      "cell_type": "code",
      "source": [
        "X = sm.add_constant(X)  # Add a constant term to the model\n",
        "mlogit_model = sm.MNLogit(y, X)\n",
        "result = mlogit_model.fit()\n"
      ],
      "metadata": {
        "colab": {
          "base_uri": "https://localhost:8080/"
        },
        "id": "Ya8hf-3elsET",
        "outputId": "118ea640-6c8f-4cea-a6f3-2bd5f92cb70d"
      },
      "execution_count": 33,
      "outputs": [
        {
          "output_type": "stream",
          "name": "stdout",
          "text": [
            "Optimization terminated successfully.\n",
            "         Current function value: 0.596392\n",
            "         Iterations 6\n"
          ]
        }
      ]
    },
    {
      "cell_type": "code",
      "source": [
        "marginal_effects = result.get_margeff()\n",
        "print(marginal_effects.summary())\n"
      ],
      "metadata": {
        "colab": {
          "base_uri": "https://localhost:8080/"
        },
        "id": "Fn9oABrClxHR",
        "outputId": "9c4838b8-2c5e-4fc0-a2c4-e334275fa480"
      },
      "execution_count": 34,
      "outputs": [
        {
          "output_type": "stream",
          "name": "stdout",
          "text": [
            "       MNLogit Marginal Effects      \n",
            "=====================================\n",
            "Dep. Variable:               mode_car\n",
            "Method:                          dydx\n",
            "At:                           overall\n",
            "==============================================================================\n",
            "mode_car=0      dy/dx    std err          z      P>|z|      [0.025      0.975]\n",
            "------------------------------------------------------------------------------\n",
            "cost.car       0.4177      0.149      2.805      0.005       0.126       0.710\n",
            "time.car       0.0704      0.006     11.598      0.000       0.058       0.082\n",
            "time.bus      -0.0274      0.006     -4.226      0.000      -0.040      -0.015\n",
            "income        -0.0103      0.004     -2.881      0.004      -0.017      -0.003\n",
            "------------------------------------------------------------------------------\n",
            "mode_car=1      dy/dx    std err          z      P>|z|      [0.025      0.975]\n",
            "------------------------------------------------------------------------------\n",
            "cost.car      -0.4177      0.149     -2.805      0.005      -0.710      -0.126\n",
            "time.car      -0.0704      0.006    -11.598      0.000      -0.082      -0.058\n",
            "time.bus       0.0274      0.006      4.226      0.000       0.015       0.040\n",
            "income         0.0103      0.004      2.881      0.004       0.003       0.017\n",
            "==============================================================================\n"
          ]
        }
      ]
    },
    {
      "cell_type": "code",
      "source": [
        "marginal_effects = result.get_margeff()\n",
        "print(marginal_effects.summary())\n"
      ],
      "metadata": {
        "colab": {
          "base_uri": "https://localhost:8080/"
        },
        "id": "V5oH_AkLl6QA",
        "outputId": "6a4d9c39-73ba-4354-b167-59ae69f37f52"
      },
      "execution_count": 35,
      "outputs": [
        {
          "output_type": "stream",
          "name": "stdout",
          "text": [
            "       MNLogit Marginal Effects      \n",
            "=====================================\n",
            "Dep. Variable:               mode_car\n",
            "Method:                          dydx\n",
            "At:                           overall\n",
            "==============================================================================\n",
            "mode_car=0      dy/dx    std err          z      P>|z|      [0.025      0.975]\n",
            "------------------------------------------------------------------------------\n",
            "cost.car       0.4177      0.149      2.805      0.005       0.126       0.710\n",
            "time.car       0.0704      0.006     11.598      0.000       0.058       0.082\n",
            "time.bus      -0.0274      0.006     -4.226      0.000      -0.040      -0.015\n",
            "income        -0.0103      0.004     -2.881      0.004      -0.017      -0.003\n",
            "------------------------------------------------------------------------------\n",
            "mode_car=1      dy/dx    std err          z      P>|z|      [0.025      0.975]\n",
            "------------------------------------------------------------------------------\n",
            "cost.car      -0.4177      0.149     -2.805      0.005      -0.710      -0.126\n",
            "time.car      -0.0704      0.006    -11.598      0.000      -0.082      -0.058\n",
            "time.bus       0.0274      0.006      4.226      0.000       0.015       0.040\n",
            "income         0.0103      0.004      2.881      0.004       0.003       0.017\n",
            "==============================================================================\n"
          ]
        }
      ]
    },
    {
      "cell_type": "code",
      "source": [],
      "metadata": {
        "id": "iwkSRlWul8nk"
      },
      "execution_count": null,
      "outputs": []
    }
  ]
}