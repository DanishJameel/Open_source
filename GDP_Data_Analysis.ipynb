{
  "nbformat": 4,
  "nbformat_minor": 0,
  "metadata": {
    "colab": {
      "provenance": [],
      "include_colab_link": true
    },
    "kernelspec": {
      "name": "python3",
      "display_name": "Python 3"
    },
    "language_info": {
      "name": "python"
    }
  },
  "cells": [
    {
      "cell_type": "markdown",
      "metadata": {
        "id": "view-in-github",
        "colab_type": "text"
      },
      "source": [
        "<a href=\"https://colab.research.google.com/github/DanishJameel/Open_source/blob/main/GDP_Data_Analysis.ipynb\" target=\"_parent\"><img src=\"https://colab.research.google.com/assets/colab-badge.svg\" alt=\"Open In Colab\"/></a>"
      ]
    },
    {
      "cell_type": "code",
      "execution_count": null,
      "metadata": {
        "id": "2F81DNGLdCsW"
      },
      "outputs": [],
      "source": [
        "import pandas as pd\n",
        "import numpy as np\n",
        "from scipy.stats import zscore\n",
        "import matplotlib.pyplot as plt\n",
        "import seaborn as sns"
      ]
    },
    {
      "cell_type": "code",
      "source": [
        "df =pd.read_csv(\"/content/GDP during pandamic -2020.csv\")"
      ],
      "metadata": {
        "id": "85P6evHUes7Z",
        "colab": {
          "base_uri": "https://localhost:8080/",
          "height": 311
        },
        "outputId": "954326b9-c25b-4aac-a15c-0c0c1c85cf5d"
      },
      "execution_count": null,
      "outputs": [
        {
          "output_type": "error",
          "ename": "FileNotFoundError",
          "evalue": "ignored",
          "traceback": [
            "\u001b[0;31m---------------------------------------------------------------------------\u001b[0m",
            "\u001b[0;31mFileNotFoundError\u001b[0m                         Traceback (most recent call last)",
            "\u001b[0;32m<ipython-input-2-8084981c4582>\u001b[0m in \u001b[0;36m<cell line: 1>\u001b[0;34m()\u001b[0m\n\u001b[0;32m----> 1\u001b[0;31m \u001b[0mdf\u001b[0m \u001b[0;34m=\u001b[0m\u001b[0mpd\u001b[0m\u001b[0;34m.\u001b[0m\u001b[0mread_csv\u001b[0m\u001b[0;34m(\u001b[0m\u001b[0;34m\"/content/GDP during pandamic -2020.csv\"\u001b[0m\u001b[0;34m)\u001b[0m\u001b[0;34m\u001b[0m\u001b[0;34m\u001b[0m\u001b[0m\n\u001b[0m",
            "\u001b[0;32m/usr/local/lib/python3.10/dist-packages/pandas/util/_decorators.py\u001b[0m in \u001b[0;36mwrapper\u001b[0;34m(*args, **kwargs)\u001b[0m\n\u001b[1;32m    209\u001b[0m                 \u001b[0;32melse\u001b[0m\u001b[0;34m:\u001b[0m\u001b[0;34m\u001b[0m\u001b[0;34m\u001b[0m\u001b[0m\n\u001b[1;32m    210\u001b[0m                     \u001b[0mkwargs\u001b[0m\u001b[0;34m[\u001b[0m\u001b[0mnew_arg_name\u001b[0m\u001b[0;34m]\u001b[0m \u001b[0;34m=\u001b[0m \u001b[0mnew_arg_value\u001b[0m\u001b[0;34m\u001b[0m\u001b[0;34m\u001b[0m\u001b[0m\n\u001b[0;32m--> 211\u001b[0;31m             \u001b[0;32mreturn\u001b[0m \u001b[0mfunc\u001b[0m\u001b[0;34m(\u001b[0m\u001b[0;34m*\u001b[0m\u001b[0margs\u001b[0m\u001b[0;34m,\u001b[0m \u001b[0;34m**\u001b[0m\u001b[0mkwargs\u001b[0m\u001b[0;34m)\u001b[0m\u001b[0;34m\u001b[0m\u001b[0;34m\u001b[0m\u001b[0m\n\u001b[0m\u001b[1;32m    212\u001b[0m \u001b[0;34m\u001b[0m\u001b[0m\n\u001b[1;32m    213\u001b[0m         \u001b[0;32mreturn\u001b[0m \u001b[0mcast\u001b[0m\u001b[0;34m(\u001b[0m\u001b[0mF\u001b[0m\u001b[0;34m,\u001b[0m \u001b[0mwrapper\u001b[0m\u001b[0;34m)\u001b[0m\u001b[0;34m\u001b[0m\u001b[0;34m\u001b[0m\u001b[0m\n",
            "\u001b[0;32m/usr/local/lib/python3.10/dist-packages/pandas/util/_decorators.py\u001b[0m in \u001b[0;36mwrapper\u001b[0;34m(*args, **kwargs)\u001b[0m\n\u001b[1;32m    329\u001b[0m                     \u001b[0mstacklevel\u001b[0m\u001b[0;34m=\u001b[0m\u001b[0mfind_stack_level\u001b[0m\u001b[0;34m(\u001b[0m\u001b[0;34m)\u001b[0m\u001b[0;34m,\u001b[0m\u001b[0;34m\u001b[0m\u001b[0;34m\u001b[0m\u001b[0m\n\u001b[1;32m    330\u001b[0m                 )\n\u001b[0;32m--> 331\u001b[0;31m             \u001b[0;32mreturn\u001b[0m \u001b[0mfunc\u001b[0m\u001b[0;34m(\u001b[0m\u001b[0;34m*\u001b[0m\u001b[0margs\u001b[0m\u001b[0;34m,\u001b[0m \u001b[0;34m**\u001b[0m\u001b[0mkwargs\u001b[0m\u001b[0;34m)\u001b[0m\u001b[0;34m\u001b[0m\u001b[0;34m\u001b[0m\u001b[0m\n\u001b[0m\u001b[1;32m    332\u001b[0m \u001b[0;34m\u001b[0m\u001b[0m\n\u001b[1;32m    333\u001b[0m         \u001b[0;31m# error: \"Callable[[VarArg(Any), KwArg(Any)], Any]\" has no\u001b[0m\u001b[0;34m\u001b[0m\u001b[0;34m\u001b[0m\u001b[0m\n",
            "\u001b[0;32m/usr/local/lib/python3.10/dist-packages/pandas/io/parsers/readers.py\u001b[0m in \u001b[0;36mread_csv\u001b[0;34m(filepath_or_buffer, sep, delimiter, header, names, index_col, usecols, squeeze, prefix, mangle_dupe_cols, dtype, engine, converters, true_values, false_values, skipinitialspace, skiprows, skipfooter, nrows, na_values, keep_default_na, na_filter, verbose, skip_blank_lines, parse_dates, infer_datetime_format, keep_date_col, date_parser, dayfirst, cache_dates, iterator, chunksize, compression, thousands, decimal, lineterminator, quotechar, quoting, doublequote, escapechar, comment, encoding, encoding_errors, dialect, error_bad_lines, warn_bad_lines, on_bad_lines, delim_whitespace, low_memory, memory_map, float_precision, storage_options)\u001b[0m\n\u001b[1;32m    948\u001b[0m     \u001b[0mkwds\u001b[0m\u001b[0;34m.\u001b[0m\u001b[0mupdate\u001b[0m\u001b[0;34m(\u001b[0m\u001b[0mkwds_defaults\u001b[0m\u001b[0;34m)\u001b[0m\u001b[0;34m\u001b[0m\u001b[0;34m\u001b[0m\u001b[0m\n\u001b[1;32m    949\u001b[0m \u001b[0;34m\u001b[0m\u001b[0m\n\u001b[0;32m--> 950\u001b[0;31m     \u001b[0;32mreturn\u001b[0m \u001b[0m_read\u001b[0m\u001b[0;34m(\u001b[0m\u001b[0mfilepath_or_buffer\u001b[0m\u001b[0;34m,\u001b[0m \u001b[0mkwds\u001b[0m\u001b[0;34m)\u001b[0m\u001b[0;34m\u001b[0m\u001b[0;34m\u001b[0m\u001b[0m\n\u001b[0m\u001b[1;32m    951\u001b[0m \u001b[0;34m\u001b[0m\u001b[0m\n\u001b[1;32m    952\u001b[0m \u001b[0;34m\u001b[0m\u001b[0m\n",
            "\u001b[0;32m/usr/local/lib/python3.10/dist-packages/pandas/io/parsers/readers.py\u001b[0m in \u001b[0;36m_read\u001b[0;34m(filepath_or_buffer, kwds)\u001b[0m\n\u001b[1;32m    603\u001b[0m \u001b[0;34m\u001b[0m\u001b[0m\n\u001b[1;32m    604\u001b[0m     \u001b[0;31m# Create the parser.\u001b[0m\u001b[0;34m\u001b[0m\u001b[0;34m\u001b[0m\u001b[0m\n\u001b[0;32m--> 605\u001b[0;31m     \u001b[0mparser\u001b[0m \u001b[0;34m=\u001b[0m \u001b[0mTextFileReader\u001b[0m\u001b[0;34m(\u001b[0m\u001b[0mfilepath_or_buffer\u001b[0m\u001b[0;34m,\u001b[0m \u001b[0;34m**\u001b[0m\u001b[0mkwds\u001b[0m\u001b[0;34m)\u001b[0m\u001b[0;34m\u001b[0m\u001b[0;34m\u001b[0m\u001b[0m\n\u001b[0m\u001b[1;32m    606\u001b[0m \u001b[0;34m\u001b[0m\u001b[0m\n\u001b[1;32m    607\u001b[0m     \u001b[0;32mif\u001b[0m \u001b[0mchunksize\u001b[0m \u001b[0;32mor\u001b[0m \u001b[0miterator\u001b[0m\u001b[0;34m:\u001b[0m\u001b[0;34m\u001b[0m\u001b[0;34m\u001b[0m\u001b[0m\n",
            "\u001b[0;32m/usr/local/lib/python3.10/dist-packages/pandas/io/parsers/readers.py\u001b[0m in \u001b[0;36m__init__\u001b[0;34m(self, f, engine, **kwds)\u001b[0m\n\u001b[1;32m   1440\u001b[0m \u001b[0;34m\u001b[0m\u001b[0m\n\u001b[1;32m   1441\u001b[0m         \u001b[0mself\u001b[0m\u001b[0;34m.\u001b[0m\u001b[0mhandles\u001b[0m\u001b[0;34m:\u001b[0m \u001b[0mIOHandles\u001b[0m \u001b[0;34m|\u001b[0m \u001b[0;32mNone\u001b[0m \u001b[0;34m=\u001b[0m \u001b[0;32mNone\u001b[0m\u001b[0;34m\u001b[0m\u001b[0;34m\u001b[0m\u001b[0m\n\u001b[0;32m-> 1442\u001b[0;31m         \u001b[0mself\u001b[0m\u001b[0;34m.\u001b[0m\u001b[0m_engine\u001b[0m \u001b[0;34m=\u001b[0m \u001b[0mself\u001b[0m\u001b[0;34m.\u001b[0m\u001b[0m_make_engine\u001b[0m\u001b[0;34m(\u001b[0m\u001b[0mf\u001b[0m\u001b[0;34m,\u001b[0m \u001b[0mself\u001b[0m\u001b[0;34m.\u001b[0m\u001b[0mengine\u001b[0m\u001b[0;34m)\u001b[0m\u001b[0;34m\u001b[0m\u001b[0;34m\u001b[0m\u001b[0m\n\u001b[0m\u001b[1;32m   1443\u001b[0m \u001b[0;34m\u001b[0m\u001b[0m\n\u001b[1;32m   1444\u001b[0m     \u001b[0;32mdef\u001b[0m \u001b[0mclose\u001b[0m\u001b[0;34m(\u001b[0m\u001b[0mself\u001b[0m\u001b[0;34m)\u001b[0m \u001b[0;34m->\u001b[0m \u001b[0;32mNone\u001b[0m\u001b[0;34m:\u001b[0m\u001b[0;34m\u001b[0m\u001b[0;34m\u001b[0m\u001b[0m\n",
            "\u001b[0;32m/usr/local/lib/python3.10/dist-packages/pandas/io/parsers/readers.py\u001b[0m in \u001b[0;36m_make_engine\u001b[0;34m(self, f, engine)\u001b[0m\n\u001b[1;32m   1733\u001b[0m                 \u001b[0;32mif\u001b[0m \u001b[0;34m\"b\"\u001b[0m \u001b[0;32mnot\u001b[0m \u001b[0;32min\u001b[0m \u001b[0mmode\u001b[0m\u001b[0;34m:\u001b[0m\u001b[0;34m\u001b[0m\u001b[0;34m\u001b[0m\u001b[0m\n\u001b[1;32m   1734\u001b[0m                     \u001b[0mmode\u001b[0m \u001b[0;34m+=\u001b[0m \u001b[0;34m\"b\"\u001b[0m\u001b[0;34m\u001b[0m\u001b[0;34m\u001b[0m\u001b[0m\n\u001b[0;32m-> 1735\u001b[0;31m             self.handles = get_handle(\n\u001b[0m\u001b[1;32m   1736\u001b[0m                 \u001b[0mf\u001b[0m\u001b[0;34m,\u001b[0m\u001b[0;34m\u001b[0m\u001b[0;34m\u001b[0m\u001b[0m\n\u001b[1;32m   1737\u001b[0m                 \u001b[0mmode\u001b[0m\u001b[0;34m,\u001b[0m\u001b[0;34m\u001b[0m\u001b[0;34m\u001b[0m\u001b[0m\n",
            "\u001b[0;32m/usr/local/lib/python3.10/dist-packages/pandas/io/common.py\u001b[0m in \u001b[0;36mget_handle\u001b[0;34m(path_or_buf, mode, encoding, compression, memory_map, is_text, errors, storage_options)\u001b[0m\n\u001b[1;32m    854\u001b[0m         \u001b[0;32mif\u001b[0m \u001b[0mioargs\u001b[0m\u001b[0;34m.\u001b[0m\u001b[0mencoding\u001b[0m \u001b[0;32mand\u001b[0m \u001b[0;34m\"b\"\u001b[0m \u001b[0;32mnot\u001b[0m \u001b[0;32min\u001b[0m \u001b[0mioargs\u001b[0m\u001b[0;34m.\u001b[0m\u001b[0mmode\u001b[0m\u001b[0;34m:\u001b[0m\u001b[0;34m\u001b[0m\u001b[0;34m\u001b[0m\u001b[0m\n\u001b[1;32m    855\u001b[0m             \u001b[0;31m# Encoding\u001b[0m\u001b[0;34m\u001b[0m\u001b[0;34m\u001b[0m\u001b[0m\n\u001b[0;32m--> 856\u001b[0;31m             handle = open(\n\u001b[0m\u001b[1;32m    857\u001b[0m                 \u001b[0mhandle\u001b[0m\u001b[0;34m,\u001b[0m\u001b[0;34m\u001b[0m\u001b[0;34m\u001b[0m\u001b[0m\n\u001b[1;32m    858\u001b[0m                 \u001b[0mioargs\u001b[0m\u001b[0;34m.\u001b[0m\u001b[0mmode\u001b[0m\u001b[0;34m,\u001b[0m\u001b[0;34m\u001b[0m\u001b[0;34m\u001b[0m\u001b[0m\n",
            "\u001b[0;31mFileNotFoundError\u001b[0m: [Errno 2] No such file or directory: '/content/GDP during pandamic -2020.csv'"
          ]
        }
      ]
    },
    {
      "cell_type": "code",
      "source": [
        "df"
      ],
      "metadata": {
        "id": "Hhr7otb4ezOJ"
      },
      "execution_count": null,
      "outputs": []
    },
    {
      "cell_type": "code",
      "source": [
        "# Dealing with outliers\n",
        "# Here, we assume the column 'GDP_growth_percentage' contains outliers and use a simple approach to remove them\n",
        "# Adjust the threshold value according to your data and requirements\n",
        "threshold = 3  # Example threshold for identifying outliers\n",
        "df = df[abs(df['GDP_growth_percentage'] - df['GDP_growth_percentage'].mean()) < threshold]\n",
        "\n",
        "# Print the dataset after dealing with outliers\n",
        "print(df)"
      ],
      "metadata": {
        "id": "cs5Hm3bIjPyg"
      },
      "execution_count": null,
      "outputs": []
    },
    {
      "cell_type": "code",
      "source": [
        "import pandas as pd\n",
        "\n",
        "# Handling missing data\n",
        "df.dropna(inplace=True)  # Remove rows with missing values\n",
        "\n",
        "# Dealing with outliers\n",
        "# Here, we assume the column 'GDP_growth_percentage' contains outliers and use a simple approach to remove them\n",
        "# Adjust the threshold value according to your data and requirements\n",
        "threshold = 3  # Example threshold for identifying outliers\n",
        "df = df[abs(df['GDP_growth_percentage'] - df['GDP_growth_percentage'].mean()) < threshold]\n",
        "\n",
        "# Transforming data\n",
        "# If 'Rise_fall_GDP' column contains text categories, we can map them to numerical values\n",
        "category_mapping = {\n",
        "    'medium fall': -1,\n",
        "    'high fall': -2,\n",
        "    'very high fall': -3\n",
        "}\n",
        "df['Rise_fall_GDP'] = df['Rise_fall_GDP'].map(category_mapping)\n",
        "\n",
        "# Print the cleaned and processed dataset\n",
        "print(df)"
      ],
      "metadata": {
        "id": "WbXiqK5ie1Um"
      },
      "execution_count": null,
      "outputs": []
    },
    {
      "cell_type": "code",
      "source": [
        "# Define the column name for which you want to remove outliers\n",
        "column_name = 'GDP_growth_percentage'\n",
        "\n",
        "# Calculate the quartiles and interquartile range (IQR)\n",
        "Q1 = df[column_name].quantile(0.25)\n",
        "Q3 = df[column_name].quantile(0.75)\n",
        "IQR = Q3 - Q1\n",
        "\n",
        "# Set the threshold for identifying outliers\n",
        "threshold = 1.5\n",
        "\n",
        "# Remove rows with outliers\n",
        "df = df[~((df[column_name] < (Q1 - threshold * IQR)) | (df[column_name] > (Q3 + threshold * IQR)))]\n",
        "\n",
        "# Print the dataset after removing outliers\n",
        "print(df)"
      ],
      "metadata": {
        "id": "bb5AkFIPhCMB"
      },
      "execution_count": null,
      "outputs": []
    },
    {
      "cell_type": "code",
      "source": [
        "\n",
        "# Compute z-scores for the 'GDP_growth_percentage' column\n",
        "z_scores = zscore(df['GDP_growth_percentage'])\n",
        "\n",
        "# Set a threshold for identifying outliers\n",
        "threshold = 3\n",
        "\n",
        "# Remove rows with outliers\n",
        "df = df[(np.abs(z_scores) < threshold)]\n",
        "\n",
        "# Print the dataset after removing outliers\n",
        "print(df)"
      ],
      "metadata": {
        "id": "Zh-9RQAPjn9W"
      },
      "execution_count": null,
      "outputs": []
    },
    {
      "cell_type": "code",
      "source": [
        "# Generate descriptive statistics\n",
        "print(df.describe())\n"
      ],
      "metadata": {
        "id": "_m0opcsUjujo"
      },
      "execution_count": null,
      "outputs": []
    },
    {
      "cell_type": "code",
      "source": [
        "# Example: Line plot of GDP growth percentage over time\n",
        "plt.figure(figsize=(12, 6))\n",
        "sns.lineplot(data=df, x='Country', y='GDP_growth_percentage')\n",
        "plt.title('GDP Growth Percentage')\n",
        "plt.xlabel('Country')\n",
        "plt.ylabel('GDP Growth Percentage')\n",
        "\n",
        "# Reduce the gap between X-axis points\n",
        "plt.xticks(rotation=90)\n",
        "plt.tight_layout()  # Adjust spacing between plot elements\n",
        "\n",
        "plt.show()"
      ],
      "metadata": {
        "id": "cPSUwUcekGs-"
      },
      "execution_count": null,
      "outputs": []
    },
    {
      "cell_type": "code",
      "source": [
        "\n",
        "# Create a boxplot of 'GDP_growth_percentage' using seaborn\n",
        "plt.figure(figsize=(8, 6))\n",
        "sns.boxplot(data=df, y='GDP_growth_percentage')\n",
        "plt.title('Boxplot of GDP Growth Percentage')\n",
        "plt.ylabel('GDP Growth Percentage')\n",
        "plt.show()"
      ],
      "metadata": {
        "id": "tt-6rfBUkIn1"
      },
      "execution_count": null,
      "outputs": []
    },
    {
      "cell_type": "code",
      "source": [
        "\n",
        "# Convert 'Nominal_gdp_p_capita' column to numeric\n",
        "df['Nominal_gdp_p_capita'] = pd.to_numeric(df['Nominal_gdp_p_capita'], errors='coerce')\n",
        "\n",
        "# Select the top 20 values from 'Nominal_gdp_p_capita'\n",
        "top_20 = df['Nominal_gdp_p_capita'].nlargest(20)\n",
        "\n",
        "# Create a histogram of the top 20 values\n",
        "plt.figure(figsize=(25, 6))\n",
        "top_20.hist(bins=10)\n",
        "plt.title('Histogram of Top 20 Nominal GDP per capita')\n",
        "plt.xlabel('Nominal GDP per capita')\n",
        "plt.ylabel('Frequency')\n",
        "plt.show()"
      ],
      "metadata": {
        "id": "b_n3iUmxkPyO"
      },
      "execution_count": null,
      "outputs": []
    },
    {
      "cell_type": "code",
      "source": [
        "# Create a scatterplot of 'Nominal_gdp_p_capita' vs. 'PPP_gdp_p_capita'\n",
        "plt.figure(figsize=(8, 6))\n",
        "sns.scatterplot(data=df, x='Nominal_gdp_p_capita', y='PPP_gdp_p_capita')\n",
        "plt.title('Scatterplot: Nominal GDP per capita vs. PPP GDP per capita')\n",
        "plt.xlabel('Nominal GDP per capita')\n",
        "plt.ylabel('PPP GDP per capita')\n",
        "plt.show()\n",
        "\n",
        "# Create a heatmap of correlation between variables\n",
        "correlation_matrix = df[['Nominal_gdp_p_capita', 'PPP_gdp_p_capita', 'GDP_growth_percentage']].corr()\n",
        "plt.figure(figsize=(8, 6))\n",
        "sns.heatmap(data=correlation_matrix, annot=True, cmap='coolwarm')\n",
        "plt.title('Correlation Heatmap')\n",
        "plt.show()"
      ],
      "metadata": {
        "id": "84kEPDdLlfdW"
      },
      "execution_count": null,
      "outputs": []
    },
    {
      "cell_type": "code",
      "source": [
        "import pandas as pd\n",
        "import scipy.stats as stats\n",
        "\n",
        "\n",
        "# Perform a hypothesis test to compare the mean GDP growth percentage of two groups\n",
        "group1 = df[df['Rise_fall_GDP'] == 'medium fall']['GDP_growth_percentage']\n",
        "group2 = df[df['Rise_fall_GDP'] == 'very high fall']['GDP_growth_percentage']\n",
        "\n",
        "# Perform an independent t-test\n",
        "t_statistic, p_value = stats.ttest_ind(group1, group2)\n",
        "\n",
        "# Check the p-value to determine the significance of the difference\n",
        "alpha = 0.05  # Set the significance level\n",
        "if p_value < alpha:\n",
        "    conclusion = \"There is a significant difference in mean GDP growth percentage between the two groups.\"\n",
        "else:\n",
        "    conclusion = \"There is no significant difference in mean GDP growth percentage between the two groups.\"\n",
        "\n",
        "# Print the results\n",
        "print(\"Independent T-Test Results:\")\n",
        "print(\"Group 1 Mean:\", group1.mean())\n",
        "print(\"Group 2 Mean:\", group2.mean())\n",
        "print(\"T-Statistic:\", t_statistic)\n",
        "print(\"P-Value:\", p_value)\n",
        "print(\"Conclusion:\", conclusion)"
      ],
      "metadata": {
        "id": "cBxqb0-Klr7S"
      },
      "execution_count": null,
      "outputs": []
    },
    {
      "cell_type": "code",
      "source": [
        "!pip install dash"
      ],
      "metadata": {
        "id": "kWr538fAmiZ2"
      },
      "execution_count": null,
      "outputs": []
    },
    {
      "cell_type": "code",
      "source": [
        "!pip install jupyter-dash\n",
        "!pip install plotly==5.5.0\n",
        "!pip install pandas\n"
      ],
      "metadata": {
        "id": "UV5G6STfnKYp"
      },
      "execution_count": null,
      "outputs": []
    },
    {
      "cell_type": "code",
      "source": [
        "import pandas as pd\n",
        "import jupyter_dash\n",
        "import dash\n",
        "import dash_core_components as dcc\n",
        "import dash_html_components as html\n",
        "import plotly.express as px\n",
        "from dash.dependencies import Input, Output\n",
        "app = jupyter_dash.JupyterDash(__name__)\n",
        "app.layout = html.Div([\n",
        "    html.H1(\"Data Exploration Dashboard\"),\n",
        "    html.Div([\n",
        "        html.Label(\"Select a variable to visualize:\"),\n",
        "        dcc.Dropdown(\n",
        "            id='variable-dropdown',\n",
        "            options=[\n",
        "                {'label': 'GDP Growth Percentage', 'value': 'GDP_growth_percentage'},\n",
        "                {'label': 'Nominal GDP per capita', 'value': 'Nominal_gdp_p_capita'},\n",
        "                {'label': 'PPP GDP per capita', 'value': 'PPP_gdp_p_capita'},\n",
        "                # Add more options for other variables\n",
        "            ],\n",
        "            value='GDP_growth_percentage'\n",
        "        )\n",
        "    ], style={'width': '300px', 'margin-bottom': '20px'}),\n",
        "    dcc.Graph(id='visualization-graph'),\n",
        "])\n",
        "@app.callback(\n",
        "    Output('visualization-graph', 'figure'),\n",
        "    [Input('variable-dropdown', 'value')]\n",
        ")\n",
        "def update_graph(selected_variable):\n",
        "    fig = px.line(df, x='Country', y=selected_variable)\n",
        "    fig.update_layout(title=f'{selected_variable} over Time', xaxis_title='Country', yaxis_title=selected_variable)\n",
        "    return fig\n",
        "if __name__ == '__main__':\n",
        "    app.run_server(mode='inline')\n",
        "\n"
      ],
      "metadata": {
        "id": "aCUOHACXnOA0"
      },
      "execution_count": null,
      "outputs": []
    },
    {
      "cell_type": "code",
      "source": [],
      "metadata": {
        "id": "Q61oF1RNmIxY"
      },
      "execution_count": null,
      "outputs": []
    },
    {
      "cell_type": "code",
      "source": [
        "!pip install pyppeteer\n"
      ],
      "metadata": {
        "id": "6ZFaRA3ymg6Y"
      },
      "execution_count": null,
      "outputs": []
    }
  ]
}